{
 "cells": [
  {
   "cell_type": "code",
   "execution_count": null,
   "metadata": {},
   "outputs": [],
   "source": [
    "#pip install requests-html"
   ]
  },
  {
   "cell_type": "code",
   "execution_count": null,
   "metadata": {},
   "outputs": [],
   "source": [
    "#pip install pandas"
   ]
  },
  {
   "cell_type": "code",
   "execution_count": null,
   "metadata": {},
   "outputs": [],
   "source": [
    "from requests_html import *\n",
    "import pandas as pd"
   ]
  },
  {
   "cell_type": "code",
   "execution_count": 15,
   "metadata": {},
   "outputs": [],
   "source": [
    "from IPython.display import clear_output"
   ]
  },
  {
   "cell_type": "markdown",
   "metadata": {},
   "source": [
    "###  port.hu média értékelések parszolása"
   ]
  },
  {
   "cell_type": "code",
   "execution_count": 2,
   "metadata": {},
   "outputs": [],
   "source": [
    "session = HTMLSession()"
   ]
  },
  {
   "cell_type": "markdown",
   "metadata": {},
   "source": [
    "port.hu review szerkezete:\n",
    "```html\n",
    "<div class=\"comment-container\">\n",
    "  <span class=\"user-rating\" title=\"user értékelése\">\n",
    "   10/10\n",
    "  </span>      \n",
    "  <div class=\"message-text\">\n",
    "    nagyon tetszett a film!\n",
    "  </div>\n",
    "</div>\n",
    "```\n",
    "illetve:\n",
    "```html\n",
    "<div class=\"comment-container offtopic\">\n",
    "  <span class=\"user-rating\" title=\"user értékelése\">\n",
    "   10/10\n",
    "  </span>      \n",
    "  <div class=\"message-text\">\n",
    "    esik az eső\n",
    "  </div>\n",
    "</div>\n",
    "```"
   ]
  },
  {
   "cell_type": "code",
   "execution_count": 39,
   "metadata": {},
   "outputs": [],
   "source": [
    "def parse_review(comment_container):\n",
    "    comment_elem = None\n",
    "    if \"offtopic\" not in comment_container.attrs[\"class\"]:\n",
    "        comment_elem = comment_container.find(\"div.message-text\", first=True)\n",
    "    score_elem   = comment_container.find(\"span.user-rating\", first=True)\n",
    "    if comment_elem is not None and score_elem is not None:\n",
    "        return (score_elem.text.split(\"/\")[0], comment_elem.text)\n",
    "    else: return None"
   ]
  },
  {
   "cell_type": "code",
   "execution_count": 4,
   "metadata": {},
   "outputs": [],
   "source": [
    "def parse_all_review(comment_container_list):\n",
    "    rev_list = []\n",
    "    for comment_container in comment_container_list:\n",
    "        r = parse_review(comment_container)\n",
    "        if r is not None:\n",
    "            rev_list.append(r)\n",
    "    return rev_list"
   ]
  },
  {
   "cell_type": "markdown",
   "metadata": {},
   "source": [
    "utolsó oldal gombból ki lehet szedni, hány oldal van összesen:\n",
    "```html\n",
    "<li class=\"last\">\n",
    "    <a href=\"/forum/adam-almai/16107?page=13\" data-page=\"12\">&raquo;</a>\n",
    "</li>\n",
    "```\n",
    "snippet:\n",
    "```python\n",
    "html.find(\"li.last\", first=True).find(\"a\", first=True).attrs[\"href\"].split(\"=\")[1]\n",
    "```"
   ]
  },
  {
   "cell_type": "code",
   "execution_count": 98,
   "metadata": {},
   "outputs": [],
   "source": [
    "def get_all_review(portHuLink, session, progress=\"100%\", count=0):\n",
    "    rev_list = []\n",
    "    page = session.get(portHuLink)\n",
    "    num_of_pages = page.html.find(\"li.last\", first=True).find(\"a\", first=True).attrs[\"href\"].split(\"=\")[1]\n",
    "    for i in range(1, int(num_of_pages)+1):\n",
    "        clear_output(wait=True)\n",
    "        print(\"processing: \"+portHuLink.split(\"/\")[4]+\" (\"+str(i)+\"/\"+str(num_of_pages)+\")\")\n",
    "        print(\"SUM: \"+str(count+len(rev_list)))\n",
    "        print(\"PROGRESS: \"+progress)\n",
    "        current_link = portHuLink+\"?page=\"+str(i)\n",
    "        current_page    = session.get(current_link)\n",
    "        current_reviews = current_page.html.find(\"div.comment-container\")\n",
    "        rev_list.extend(parse_all_review(current_reviews))\n",
    "    return rev_list"
   ]
  },
  {
   "cell_type": "code",
   "execution_count": 99,
   "metadata": {},
   "outputs": [
    {
     "name": "stdout",
     "output_type": "stream",
     "text": [
      "processing: adam-almai (13/13)\n",
      "SUM: 136\n",
      "PROGRESS: 100%\n"
     ]
    },
    {
     "data": {
      "text/plain": [
       "'TOTAL: 137'"
      ]
     },
     "execution_count": 99,
     "metadata": {},
     "output_type": "execute_result"
    }
   ],
   "source": [
    "rl = get_all_review(\"https://port.hu/forum/adam-almai/16107\", session); \"TOTAL: \"+str(len(rl))"
   ]
  },
  {
   "cell_type": "code",
   "execution_count": 100,
   "metadata": {},
   "outputs": [],
   "source": [
    "result_table = pd.DataFrame(rl, columns = [\"értékelés\", \"szöveg\"])"
   ]
  },
  {
   "cell_type": "code",
   "execution_count": 101,
   "metadata": {},
   "outputs": [
    {
     "data": {
      "text/html": [
       "<div>\n",
       "<style scoped>\n",
       "    .dataframe tbody tr th:only-of-type {\n",
       "        vertical-align: middle;\n",
       "    }\n",
       "\n",
       "    .dataframe tbody tr th {\n",
       "        vertical-align: top;\n",
       "    }\n",
       "\n",
       "    .dataframe thead th {\n",
       "        text-align: right;\n",
       "    }\n",
       "</style>\n",
       "<table border=\"1\" class=\"dataframe\">\n",
       "  <thead>\n",
       "    <tr style=\"text-align: right;\">\n",
       "      <th></th>\n",
       "      <th>értékelés</th>\n",
       "      <th>szöveg</th>\n",
       "    </tr>\n",
       "  </thead>\n",
       "  <tbody>\n",
       "    <tr>\n",
       "      <th>0</th>\n",
       "      <td>10</td>\n",
       "      <td>Kár, hogy eddig \"patópáloskodtam\"; nagyon tets...</td>\n",
       "    </tr>\n",
       "    <tr>\n",
       "      <th>1</th>\n",
       "      <td>10</td>\n",
       "      <td>Időnként nem tudtam sírjak vagy nevessek....</td>\n",
       "    </tr>\n",
       "    <tr>\n",
       "      <th>2</th>\n",
       "      <td>10</td>\n",
       "      <td>Már kb. 1 éve felvettem és csak most néztem me...</td>\n",
       "    </tr>\n",
       "    <tr>\n",
       "      <th>3</th>\n",
       "      <td>10</td>\n",
       "      <td>Zseniális film!!!</td>\n",
       "    </tr>\n",
       "    <tr>\n",
       "      <th>4</th>\n",
       "      <td>10</td>\n",
       "      <td>Brutál film! Nem emlékszem rá, hogy valaha is ...</td>\n",
       "    </tr>\n",
       "  </tbody>\n",
       "</table>\n",
       "</div>"
      ],
      "text/plain": [
       "  értékelés                                             szöveg\n",
       "0        10  Kár, hogy eddig \"patópáloskodtam\"; nagyon tets...\n",
       "1        10       Időnként nem tudtam sírjak vagy nevessek....\n",
       "2        10  Már kb. 1 éve felvettem és csak most néztem me...\n",
       "3        10                                  Zseniális film!!!\n",
       "4        10  Brutál film! Nem emlékszem rá, hogy valaha is ..."
      ]
     },
     "execution_count": 101,
     "metadata": {},
     "output_type": "execute_result"
    }
   ],
   "source": [
    "result_table.head()"
   ]
  },
  {
   "cell_type": "markdown",
   "metadata": {},
   "source": [
    "### Link lista feldolgozás"
   ]
  },
  {
   "cell_type": "code",
   "execution_count": 42,
   "metadata": {},
   "outputs": [],
   "source": [
    "list_from_file = tuple(open(\"/home/data/links.txt\", 'r'))"
   ]
  },
  {
   "cell_type": "code",
   "execution_count": 46,
   "metadata": {},
   "outputs": [],
   "source": [
    "step = 0.5;progress=0"
   ]
  },
  {
   "cell_type": "code",
   "execution_count": 47,
   "metadata": {},
   "outputs": [],
   "source": [
    "all_review = []"
   ]
  },
  {
   "cell_type": "code",
   "execution_count": 48,
   "metadata": {},
   "outputs": [
    {
     "name": "stdout",
     "output_type": "stream",
     "text": [
      "processing: silent-hill-a-halott-varos (20/20)\n",
      "SUM: 45930\n",
      "PROGRESS: 99.0%\n"
     ]
    },
    {
     "data": {
      "text/plain": [
       "'TOTAL: 45930'"
      ]
     },
     "execution_count": 48,
     "metadata": {},
     "output_type": "execute_result"
    }
   ],
   "source": [
    "for link in list_from_file:\n",
    "    current_link = link.replace(\"\\n\", \"\")\n",
    "    current_reviews = get_all_review(link, session, str(progress)+\"%\", len(all_review))\n",
    "    all_review.extend(current_reviews)\n",
    "    progress+=step\n",
    "\"TOTAL: \"+str(len(all_review))"
   ]
  },
  {
   "cell_type": "code",
   "execution_count": 70,
   "metadata": {},
   "outputs": [],
   "source": [
    "all_table = pd.DataFrame(all_review, columns = [\"értékelés\", \"szöveg\"])"
   ]
  },
  {
   "cell_type": "code",
   "execution_count": 71,
   "metadata": {},
   "outputs": [
    {
     "data": {
      "text/html": [
       "<div>\n",
       "<style scoped>\n",
       "    .dataframe tbody tr th:only-of-type {\n",
       "        vertical-align: middle;\n",
       "    }\n",
       "\n",
       "    .dataframe tbody tr th {\n",
       "        vertical-align: top;\n",
       "    }\n",
       "\n",
       "    .dataframe thead th {\n",
       "        text-align: right;\n",
       "    }\n",
       "</style>\n",
       "<table border=\"1\" class=\"dataframe\">\n",
       "  <thead>\n",
       "    <tr style=\"text-align: right;\">\n",
       "      <th></th>\n",
       "      <th>értékelés</th>\n",
       "      <th>szöveg</th>\n",
       "    </tr>\n",
       "  </thead>\n",
       "  <tbody>\n",
       "    <tr>\n",
       "      <th>0</th>\n",
       "      <td>7</td>\n",
       "      <td>Teljesen elment a kedvem a lélekvándorlástól. ...</td>\n",
       "    </tr>\n",
       "    <tr>\n",
       "      <th>1</th>\n",
       "      <td>9</td>\n",
       "      <td>Kivancsi vagyok, sikerult-e mar a TV2 csoportn...</td>\n",
       "    </tr>\n",
       "    <tr>\n",
       "      <th>2</th>\n",
       "      <td>9</td>\n",
       "      <td>Kíváncsi vagyok, ezúttal vajon lesz-e felirat ...</td>\n",
       "    </tr>\n",
       "    <tr>\n",
       "      <th>3</th>\n",
       "      <td>10</td>\n",
       "      <td>Ez így igaz, másrészt a csupa egyéni véleménye...</td>\n",
       "    </tr>\n",
       "    <tr>\n",
       "      <th>4</th>\n",
       "      <td>5</td>\n",
       "      <td>Ez egy 5 pontos film maximum. Sok szart felpon...</td>\n",
       "    </tr>\n",
       "  </tbody>\n",
       "</table>\n",
       "</div>"
      ],
      "text/plain": [
       "  értékelés                                             szöveg\n",
       "0         7  Teljesen elment a kedvem a lélekvándorlástól. ...\n",
       "1         9  Kivancsi vagyok, sikerult-e mar a TV2 csoportn...\n",
       "2         9  Kíváncsi vagyok, ezúttal vajon lesz-e felirat ...\n",
       "3        10  Ez így igaz, másrészt a csupa egyéni véleménye...\n",
       "4         5  Ez egy 5 pontos film maximum. Sok szart felpon..."
      ]
     },
     "execution_count": 71,
     "metadata": {},
     "output_type": "execute_result"
    }
   ],
   "source": [
    "all_table.head()"
   ]
  },
  {
   "cell_type": "code",
   "execution_count": 51,
   "metadata": {},
   "outputs": [],
   "source": [
    "all_table.to_csv(\"/home/data/port_c.csv\", index=False)"
   ]
  },
  {
   "cell_type": "code",
   "execution_count": 56,
   "metadata": {},
   "outputs": [
    {
     "data": {
      "text/plain": [
       "[2476, 600, 647, 529, 837, 753, 1210, 1956, 2434, 34488]"
      ]
     },
     "execution_count": 56,
     "metadata": {},
     "output_type": "execute_result"
    }
   ],
   "source": [
    "count = [0, 0, 0, 0, 0, 0, 0, 0, 0, 0]\n",
    "for index, row in all_table.iterrows():\n",
    "    idx = int(row['értékelés'])-1\n",
    "    count[idx]+=1\n",
    "count"
   ]
  },
  {
   "cell_type": "code",
   "execution_count": 60,
   "metadata": {},
   "outputs": [
    {
     "data": {
      "text/plain": [
       "8.868713259307642"
      ]
     },
     "execution_count": 60,
     "metadata": {},
     "output_type": "execute_result"
    }
   ],
   "source": [
    "sum=0\n",
    "for i in range(1, 11):\n",
    "    sum+=count[i-1]*i\n",
    "atl=sum/45930\n",
    "atl"
   ]
  },
  {
   "cell_type": "markdown",
   "metadata": {},
   "source": [
    "#### Átlag értékelés túl magas, mert jellemzően az emberek 7-10 pontra értékelnek.  Általában a 7-es értékelésben már negatív kritika (is) van, felette viszont nem nagyon, ezért 7 felett pozitívnak, a többit negatívnak veszem"
   ]
  },
  {
   "cell_type": "code",
   "execution_count": 73,
   "metadata": {},
   "outputs": [],
   "source": [
    "all_table[[\"értékelés\"]] = all_table[[\"értékelés\"]].apply(pd.to_numeric)"
   ]
  },
  {
   "cell_type": "code",
   "execution_count": 83,
   "metadata": {},
   "outputs": [
    {
     "data": {
      "text/html": [
       "<div>\n",
       "<style scoped>\n",
       "    .dataframe tbody tr th:only-of-type {\n",
       "        vertical-align: middle;\n",
       "    }\n",
       "\n",
       "    .dataframe tbody tr th {\n",
       "        vertical-align: top;\n",
       "    }\n",
       "\n",
       "    .dataframe thead th {\n",
       "        text-align: right;\n",
       "    }\n",
       "</style>\n",
       "<table border=\"1\" class=\"dataframe\">\n",
       "  <thead>\n",
       "    <tr style=\"text-align: right;\">\n",
       "      <th></th>\n",
       "      <th>értékelés</th>\n",
       "      <th>szöveg</th>\n",
       "    </tr>\n",
       "  </thead>\n",
       "  <tbody>\n",
       "    <tr>\n",
       "      <th>0</th>\n",
       "      <td>7</td>\n",
       "      <td>Teljesen elment a kedvem a lélekvándorlástól. ...</td>\n",
       "    </tr>\n",
       "    <tr>\n",
       "      <th>11</th>\n",
       "      <td>7</td>\n",
       "      <td>Örülök, hogy láttam ezt a filmet. Mondanám, ho...</td>\n",
       "    </tr>\n",
       "    <tr>\n",
       "      <th>72</th>\n",
       "      <td>7</td>\n",
       "      <td>Õszinte leszek én jobbra vártam, nem igazán te...</td>\n",
       "    </tr>\n",
       "    <tr>\n",
       "      <th>75</th>\n",
       "      <td>7</td>\n",
       "      <td>8 Oscar díj?:)\\n\\nEzzel a világ minden idõk le...</td>\n",
       "    </tr>\n",
       "    <tr>\n",
       "      <th>85</th>\n",
       "      <td>7</td>\n",
       "      <td>Csatlakozom. A kedvenc filmjeimet nagyon soksz...</td>\n",
       "    </tr>\n",
       "    <tr>\n",
       "      <th>...</th>\n",
       "      <td>...</td>\n",
       "      <td>...</td>\n",
       "    </tr>\n",
       "    <tr>\n",
       "      <th>45814</th>\n",
       "      <td>7</td>\n",
       "      <td>Nem volt életem filmje, de amiért beültem rá, ...</td>\n",
       "    </tr>\n",
       "    <tr>\n",
       "      <th>45840</th>\n",
       "      <td>7</td>\n",
       "      <td>Hatalmasat csalódtam, sokkal jobbra számította...</td>\n",
       "    </tr>\n",
       "    <tr>\n",
       "      <th>45849</th>\n",
       "      <td>7</td>\n",
       "      <td>Köszönöm szépen,hogy ezt megírtad! Most felfog...</td>\n",
       "    </tr>\n",
       "    <tr>\n",
       "      <th>45855</th>\n",
       "      <td>7</td>\n",
       "      <td>pyramid head a legjobb :) mar csak miatta is k...</td>\n",
       "    </tr>\n",
       "    <tr>\n",
       "      <th>45906</th>\n",
       "      <td>7</td>\n",
       "      <td>Teljesen igazad van! Tényleg nehezen érthetõ f...</td>\n",
       "    </tr>\n",
       "  </tbody>\n",
       "</table>\n",
       "<p>1210 rows × 2 columns</p>\n",
       "</div>"
      ],
      "text/plain": [
       "       értékelés                                             szöveg\n",
       "0              7  Teljesen elment a kedvem a lélekvándorlástól. ...\n",
       "11             7  Örülök, hogy láttam ezt a filmet. Mondanám, ho...\n",
       "72             7  Õszinte leszek én jobbra vártam, nem igazán te...\n",
       "75             7  8 Oscar díj?:)\\n\\nEzzel a világ minden idõk le...\n",
       "85             7  Csatlakozom. A kedvenc filmjeimet nagyon soksz...\n",
       "...          ...                                                ...\n",
       "45814          7  Nem volt életem filmje, de amiért beültem rá, ...\n",
       "45840          7  Hatalmasat csalódtam, sokkal jobbra számította...\n",
       "45849          7  Köszönöm szépen,hogy ezt megírtad! Most felfog...\n",
       "45855          7  pyramid head a legjobb :) mar csak miatta is k...\n",
       "45906          7  Teljesen igazad van! Tényleg nehezen érthetõ f...\n",
       "\n",
       "[1210 rows x 2 columns]"
      ]
     },
     "execution_count": 83,
     "metadata": {},
     "output_type": "execute_result"
    }
   ],
   "source": [
    "all_table[all_table[\"értékelés\"]==7]"
   ]
  },
  {
   "cell_type": "code",
   "execution_count": null,
   "metadata": {},
   "outputs": [],
   "source": [
    "column_name = 'értékelés'\n",
    "mask_pozitiv = all_table.értékelés>=8\n",
    "all_table.loc[mask_jo, column_name] = \"pozitív\"\n",
    "\n",
    "mask_negativ = all_table.értékelés != \"pozitív\"\n",
    "all_table.loc[mask_negativ, column_name] = \"negatív\""
   ]
  },
  {
   "cell_type": "code",
   "execution_count": 91,
   "metadata": {},
   "outputs": [
    {
     "data": {
      "text/html": [
       "<div>\n",
       "<style scoped>\n",
       "    .dataframe tbody tr th:only-of-type {\n",
       "        vertical-align: middle;\n",
       "    }\n",
       "\n",
       "    .dataframe tbody tr th {\n",
       "        vertical-align: top;\n",
       "    }\n",
       "\n",
       "    .dataframe thead th {\n",
       "        text-align: right;\n",
       "    }\n",
       "</style>\n",
       "<table border=\"1\" class=\"dataframe\">\n",
       "  <thead>\n",
       "    <tr style=\"text-align: right;\">\n",
       "      <th></th>\n",
       "      <th>értékelés</th>\n",
       "      <th>szöveg</th>\n",
       "    </tr>\n",
       "  </thead>\n",
       "  <tbody>\n",
       "    <tr>\n",
       "      <th>0</th>\n",
       "      <td>negatív</td>\n",
       "      <td>Teljesen elment a kedvem a lélekvándorlástól. ...</td>\n",
       "    </tr>\n",
       "    <tr>\n",
       "      <th>1</th>\n",
       "      <td>pozitív</td>\n",
       "      <td>Kivancsi vagyok, sikerult-e mar a TV2 csoportn...</td>\n",
       "    </tr>\n",
       "    <tr>\n",
       "      <th>2</th>\n",
       "      <td>pozitív</td>\n",
       "      <td>Kíváncsi vagyok, ezúttal vajon lesz-e felirat ...</td>\n",
       "    </tr>\n",
       "    <tr>\n",
       "      <th>3</th>\n",
       "      <td>pozitív</td>\n",
       "      <td>Ez így igaz, másrészt a csupa egyéni véleménye...</td>\n",
       "    </tr>\n",
       "    <tr>\n",
       "      <th>4</th>\n",
       "      <td>negatív</td>\n",
       "      <td>Ez egy 5 pontos film maximum. Sok szart felpon...</td>\n",
       "    </tr>\n",
       "  </tbody>\n",
       "</table>\n",
       "</div>"
      ],
      "text/plain": [
       "  értékelés                                             szöveg\n",
       "0   negatív  Teljesen elment a kedvem a lélekvándorlástól. ...\n",
       "1   pozitív  Kivancsi vagyok, sikerult-e mar a TV2 csoportn...\n",
       "2   pozitív  Kíváncsi vagyok, ezúttal vajon lesz-e felirat ...\n",
       "3   pozitív  Ez így igaz, másrészt a csupa egyéni véleménye...\n",
       "4   negatív  Ez egy 5 pontos film maximum. Sok szart felpon..."
      ]
     },
     "execution_count": 91,
     "metadata": {},
     "output_type": "execute_result"
    }
   ],
   "source": [
    "all_table.head()"
   ]
  },
  {
   "cell_type": "code",
   "execution_count": 92,
   "metadata": {},
   "outputs": [],
   "source": [
    "all_table.to_csv(\"/home/data/port_hu_mozes.csv\", index=False)"
   ]
  }
 ],
 "metadata": {
  "kernelspec": {
   "display_name": "Python 3",
   "language": "python",
   "name": "python3"
  },
  "language_info": {
   "codemirror_mode": {
    "name": "ipython",
    "version": 3
   },
   "file_extension": ".py",
   "mimetype": "text/x-python",
   "name": "python",
   "nbconvert_exporter": "python",
   "pygments_lexer": "ipython3",
   "version": "3.7.6"
  }
 },
 "nbformat": 4,
 "nbformat_minor": 4
}
